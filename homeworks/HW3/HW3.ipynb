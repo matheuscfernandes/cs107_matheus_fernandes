{
 "cells": [
  {
   "cell_type": "markdown",
   "metadata": {},
   "source": [
    "# Homework 3\n",
    "## Due Date:  Tuesday, October 13th at 11:59 PM (Boston Time)\n",
    "### There are 3 problems in this homework.\n",
    "   [Problem 0](#p0) Homework Workflow [10pts]<br>\n",
    "   [Problem 1](#p1) Using Git Revert [5pts]<br>\n",
    "   [Problem 2](#p2) Writing a Linear regression class using Object Oriented Programming (OOP) paradigm [45pts]<br>\n",
    "   [Problem 3](#p3) Writing Bank Account software using Object Oriented Programming (OOP) paradigm [40pts]\n",
    "    \n",
    "---"
   ]
  },
  {
   "cell_type": "markdown",
   "metadata": {},
   "source": [
    "<a id='p0'></a>\n",
    "## Problem 0: Course Workflow [10pts]\n",
    "Once you receive HW2 feedback (no later than Wednesday Oct 7), you will need to merge your `HW2-dev` branch into `master`. **This counts for points so ensure you do this.**\n",
    "\n",
    "You will be rewarded direct points for following all stages of the git workflow which involves\n",
    "\n",
    "* 3pts for merging your `HW2-dev` into `master`\n",
    "* 5pts for completing HW3 on the `HW3-dev` branch\n",
    "* 2pts for making a PR on `HW3-dev` to merge into `master`\n",
    "![Sample Github Submission](../fig/HW3_submission.png)\n",
    "\n",
    "---"
   ]
  },
  {
   "cell_type": "markdown",
   "metadata": {},
   "source": [
    "<a id='p1'></a>\n",
    "## Problem 1: Using Git Revert [5pts]\n",
    "\n",
    "You have used the `git revert` command a few times throughout this class. This problem will teach you how to revert multiple commits all in one shot, which can be very useful when you have made many changes that broke your code or accidentally merged a branch you did not want to.\n",
    "\n",
    "1. Start on your `HW3-dev` branch in your `HW3/` directory.\n",
    "    1. Make a file called `hello.txt` with one line that says `This is //your_name//.` Try using the `echo` command on this file to verify the content.\n",
    "    2. Create a commit for `hello.txt` with the message `made hello.txt`.\n",
    "2. Off of `HW3-dev`, create and switch to a new branch called `HW3-P1`.\n",
    "    1. You should see that `hello.txt` exists on `HW3-P1`.\n",
    "    2. Change `your_name` in `hello.txt` to the name of your favorite celebrity or athlete. So now the file should read `This is //your_favorite_celebrity//.`\n",
    "    3. Commit this change with a message that says `P1 - Changed name to //your_favorite_celebrity//`.\n",
    "    4. Delete `hello.txt` and commit with a message that says `P1 - deleted hello.txt`.\n",
    "    5. Verify that `hello.txt` is deleted and that your `HW3-P1` branch is 2 commits ahead of `HW3-dev`.\n",
    "3. Switch back to your `HW3-dev` branch.\n",
    "    1. Verify that your `hello.txt` says `This is //your_name//.` **Why is this the case?** Make sure you understand this. You do not need to submit an answer. \n",
    "    2. Merge your `HW3-P1` branch into `HW3-dev`.\n",
    "    3. Verify that your `hello.txt` is now gone. If `hello.txt` was the only file in your `HW3/` directory, then you may find that `HW3/` is gone as well. This is expected.\n",
    "\n",
    "You made some changes to your `hello.txt` on our `HW3-P1` branch and merged those changes into your `HW3-dev`. But what if you decide that you did not want to delete `hello.txt` or change your name in `hello.txt`? This is where the `git revert` command is useful to reverse our history while still preserving the log!\n",
    "\n",
    "4. Verify that you're on your `HW3-dev` branch.\n",
    "5. Find the SHA for the commit that you made when you changed the name in `hello.txt`. If you are unfamiliar with git commit SHAs, [this is a quick read](https://blog.thoughtram.io/git/2014/11/18/the-anatomy-of-a-git-commit.html) to get you up-to-speed.\n",
    "6. Find the SHA for the commit that you made when you deleted `hello.txt`.\n",
    "7. Now, we want you to use the `git revert` command to reverse the changes of your two commits and **then make only one additional commit with the reverted changes.** The message for your single commit should read something like `P1 - reverted deletion of hello.txt and name change`.\n",
    "    1. Explore the `git revert` command (use the `-h` flag or Google) to figure out a way you can revert the changes of your two previous commits and then commit the revisions in a single commit.\n",
    "    2. If you use `git revert older_commit_SHA^..newer_commit_SHA`, then you will make two additional commits to revert your changes. **This IS NOT what we want.**\n",
    "    3. **Hint:** Checkout this [stackoverflow thread](https://stackoverflow.com/questions/4991594/revert-a-range-of-commits-in-git).\n",
    "8. Your commit log on your `HW3-dev` branch should have a sequence of 4 commits very close to the screenshot below. Please take a screen shot of your 4 commits, name the screenshot `P1.png`, and submit it.\n",
    "    ![](P1_commit_log.png)\n",
    "    \n",
    "\n",
    "**Final deliverables:**  \n",
    "`P1.png`\n",
    "\n",
    "---"
   ]
  },
  {
   "cell_type": "markdown",
   "metadata": {},
   "source": [
    "<a id='p2'></a>\n",
    "## Problem 2:  Linear Regression Class [45pts]\n",
    "\n",
    "### Explanation of Modules\n",
    "So far, we have only been writing short `Python` scripts. However, when your code base starts to get bigger, you might want to organize your function and class definitions. The idea behind modules is to split your function and class definitions into multiple, logical units.  When you want to use a function or class you simply import it from the module.  In essence, a module is a file containing `Python` definitions and statements.\n",
    "\n",
    "In this problem, you will create a module called `Regression` with custom `Python` classes for two related types of linear regression: Ordinary Least Squares Linear Regression and Ridge Regression.\n",
    "\n",
    "**You are prohibited from using standard regression libraries in `Python` such as `sklearn`.**  These classes must be your own.  However, you *are permitted* to check your answers against the standard libraries. You may use `numpy` to perform simple computations such as computing averages."
   ]
  },
  {
   "cell_type": "markdown",
   "metadata": {},
   "source": [
    "### Background\n",
    "\n",
    "Consider the multivariate linear model:\n",
    "$$y = X\\beta$$\n",
    "where $y$ is a length $n$ vector, $X$ is an $n \\times p$ matrix, and $\\beta$ is a $p$ length vector of coefficients.\n",
    "\n",
    "The goal is to find the coefficients $\\beta$ so that the linear model fits the data the best.  There are many approaches to this, but in this problem you will only consider two.\n",
    "\n",
    "#### Ordinary Least Squares (OLS) Linear Regression\n",
    "\n",
    "[OLS Regression](https://en.wikipedia.org/wiki/Ordinary_least_squares) seeks to minimize the following cost function:\n",
    "\n",
    "$$\\mathcal{C} = \\|y - X\\beta\\|^{2}.$$\n",
    "\n",
    "The best fit coefficients are given by:\n",
    "\n",
    "$$\\widehat{\\beta} = (X^T X)^{-1}X^Ty$$\n",
    "\n",
    "This is called the normal equation, where $X^T$ is the transpose of the matrix $X$ and $X^{-1}$ is the inverse of the matrix $X$.  Note that these are the coefficients that minimize the cost function given the data.\n",
    "\n",
    "Option material: if you are interested in how we derive the normal equation, here is one explanation [Normal Equation](https://www.geeksforgeeks.org/ml-normal-equation-in-linear-regression/#:~:text=Normal%20Equation%20is%20an%20analytical,a%20dataset%20with%20small%20features.)\n",
    "\n",
    "#### Ridge Regression\n",
    "\n",
    "[Ridge Regression](https://en.wikipedia.org/wiki/Tikhonov_regularization) introduces an $L_{2}$ regularization so the new cost function is:\n",
    "\n",
    "$$\\mathcal{C}_{\\Gamma} = \\|y - X\\beta\\|^{2}+\\|\\Gamma \\beta \\|^{2}.$$\n",
    "\n",
    "where $\\Gamma = \\alpha I$ for some constant $\\alpha$ and $I$ is the identity matrix.\n",
    "\n",
    "The best fit coefficients for this case are given by:\n",
    "$$\\hat{\\beta} = (X^T X+\\Gamma^T\\Gamma)^{-1}X^Ty.$$\n",
    "\n",
    "#### $R^2$ score\n",
    "You will use the [$R^{2}$ metric](https://en.wikipedia.org/wiki/Coefficient_of_determination) to assess the performance of the models.  The $R^2$ score is defined as:\n",
    "$$\\displaystyle R^{2} = 1-\\dfrac{SS_{E}}{SS_{T}}$$\n",
    "where\n",
    "$$SS_{T}=\\sum_{i}{\\left(y_{i}-\\overline{y}\\right)^2}$$ and $$SS_{E}=\\sum_{i}{\\left(y_{i} - \\widehat{y_i}\\right)^2}.$$\n",
    "\n",
    "The ${y_i}$ are the original data values, $\\overline{y}$ is the mean of the original data values, and $\\widehat{y_i}$ are the values predicted by the model."
   ]
  },
  {
   "cell_type": "markdown",
   "metadata": {},
   "source": [
    "### Part A:  Base Class [10pts]\n",
    "In a file called `Regression.py`, write a class called `Regression` with the following methods:\n",
    "\n",
    "`__init__()`: Initializes an empty dictionary called `params`.  Note that `params` should be an instance attribute.\n",
    "\n",
    "`fit(X, y)`: Fits a linear model to $X$ and $y$. It stores best-fit parameters in the dictionary attribute called `params`. The first key should be the coefficients (not including the intercept) and the second key should be the intercept.\n",
    "\n",
    "`get_params()`: Returns $\\widehat{\\beta}$ for the fitted model. Note that the `fit` method already stored the dictionary in `params`, so all you need to do is return that dictionary.\n",
    "\n",
    "`predict(X)`: Predict new values with the fitted model given $X$.\n",
    "\n",
    "`score(X, y)`: Returns the $R^2$ value of the fitted model.\n",
    "\n",
    "`set_params()`: Manually set parameters of the linear model.  The method should accept variable keyword arguments (`**kwargs`) containing model parameters.  In this problem, it will be used to set the reguarization coefficient $\\alpha$ in the Ridge Regression model.\n",
    "\n",
    "You will find that some of these methods cannot be concretely defined for the non-specific parent class. Such methods are intended to be fully implemented within subclasses. Headers and the throwing of `NotImplementedError`s should be enough in the base class. Do a quick test yourself to make sure each of such methods throws a `NotImplementedError` when called. You do NOT need to submit this test. \n",
    "\n",
    "Here is the interface for the `Regression` class:"
   ]
  },
  {
   "cell_type": "markdown",
   "metadata": {},
   "source": [
    "```python\n",
    "class Regression():\n",
    "    \n",
    "    def __init__(self):\n",
    "        # your code\n",
    "    \n",
    "    def get_params(self):\n",
    "        # your code\n",
    "    \n",
    "    def set_params(self, **kwargs):\n",
    "        # your code\n",
    "        \n",
    "    def fit(self, X, y):\n",
    "        # your code\n",
    "        \n",
    "    def predict(self, X):\n",
    "        # your code\n",
    "        \n",
    "    def score(self, X, y):\n",
    "        # your code\n",
    "```"
   ]
  },
  {
   "cell_type": "markdown",
   "metadata": {},
   "source": [
    "### Part B: List every function definition inside the module Regression [5pts]\n",
    "\n",
    "In a file called `P2B.py`, import the `Regression` class **using an alias** and print a list of every function that can be accessed through this class by using a built-in `python` function. Once you run `P2B.py` in your terminal, the list should be printed to your Terminal screen. **Ensure you only print the functions for the `Regression` class from the module.**"
   ]
  },
  {
   "cell_type": "markdown",
   "metadata": {},
   "source": [
    "### Part C: OLS Linear Regression [10pts]\n",
    "\n",
    "Write a class called `LinearRegression` that implements the OLS Regression model described above and inherits the `Regression` class. Also place this class in `Regression.py`.\n",
    "\n",
    "**Hints:**\n",
    "* Note that the linear model $X\\beta$ can also include an intercept term (e.g. $\\displaystyle \\beta_{1} x_{1} + \\beta_{0}$).  This is handled by appending a column of ones to the feature matrix $X$.  See the [`numpy.append`](https://docs.scipy.org/doc/numpy/reference/generated/numpy.append.html) documentation.  You may want to consider doing the append inside your `fit` method.\n",
    "* The best-fit coefficients $\\widehat{\\beta}$ are determined by forming the inverse of $\\displaystyle X^{T}X$.  Rather than using the `numpy.linalg.inv` method, it would be better to use the [pseudo-inverse](https://docs.scipy.org/doc/numpy/reference/generated/numpy.linalg.pinv.html)."
   ]
  },
  {
   "cell_type": "markdown",
   "metadata": {},
   "source": [
    "### Part D: Ridge Regression [10pts]\n",
    "\n",
    "Write a class called `RidgeRegression` that implements Ridge Regression and inherits the `LinearRegression` class. Place this class in `Regression.py`."
   ]
  },
  {
   "cell_type": "markdown",
   "metadata": {},
   "source": [
    "### Part E: Model Scoring [5pts]\n",
    "You will use the [Boston dataset](http://scikit-learn.org/stable/modules/generated/sklearn.datasets.load_boston.html) for this part. You will want to split this dataset into a training and a test set. Please use an 80%-20% training-test split with a `random_state=42`, as seen below.\n",
    "\n",
    "Import your `Regression` module **using an alias**. Instantiate your `LinearRegression` and `RidgeRegression` models.  Using a `for` loop, fit (on the training data) and score (on the testing data) each model on the Boston dataset. Place this code in a file called `model_scoring.py`.\n",
    "\n",
    "**Note:** Some of you may not be familiar with the train-test split pattern from the statistics world.  All this means is that you take your dataset and split it into two parts, a training part and test part (often 80-20 split).  You perform the analysis on the training data in order to determine the best-fit parameters in your model.  Then, you use that model to make a prediction using data from the test set.  Finally, you assess the performance of the model on the test set.\n",
    "![](P2E-Train-Test-Split-Diagram.jpg)\n",
    "\n",
    "Print out the $R^2$ value for each model and the parameters for the best model using the `get_params()` method.  Use an $\\alpha$ value of $0.1$.\n",
    "\n",
    "**Hint:**  The code below demonstrates how to do a train-test split.  It also demos the way a user should interact with your classes. **There are pieces of code that are missing, so you will need to fix this.** Note that the demo uses the diabetes dataset, which you should change to the Boston dataset. \n",
    "\n"
   ]
  },
  {
   "cell_type": "markdown",
   "metadata": {},
   "source": [
    "```python\n",
    "from sklearn import datasets\n",
    "from sklearn.model_selection import train_test_split\n",
    "#import regression classes\n",
    "\n",
    "dataset = datasets.load_diabetes()\n",
    "X_train, X_test, y_train, y_test = train_test_split(dataset['data'], \n",
    "                                                    dataset['target'], \n",
    "                                                    test_size=0.2, \n",
    "                                                    random_state=42)\n",
    "\n",
    "alpha = 0.5\n",
    "models = [model1(alpha), model2(alpha)]\n",
    "\n",
    "for model in models:\n",
    "    model.fit(X_train, y_train);\n",
    "```"
   ]
  },
  {
   "cell_type": "markdown",
   "metadata": {},
   "source": [
    "### Part F: Visualize Model Performance [5pts]\n",
    "\n",
    "Evaluate how the models perform for various values of $\\alpha$. Place this code in a file called `model_performance.py`.\n",
    "* Calculate the $R^2$ scores for each model.\n",
    "    * Try at least 10 different values of $\\alpha \\in [10^{-2}, 10^1]$ for the Ridge regression model, covering the range with a reasonable logarithmic interval.\n",
    "    * To change the parameters, use the `set_params()` method that you wrote.\n",
    "* Show the two lines on the same graph. (**Hint:** linear regression will have a constant line.)\n",
    "    * Plot $R^2$ versus $\\alpha$.\n",
    "* Save the plot as `P2F.png`.\n",
    "\n",
    "**Be sure to create a readable and interpretable plot!**.  This means axes labels should be present and readable and the plot should have a legend."
   ]
  },
  {
   "cell_type": "markdown",
   "metadata": {},
   "source": [
    "#### Final Deliverables:\n",
    "1. `Regression.py`\n",
    "2. `P2B.py`\n",
    "4. `model_scoring.py`\n",
    "5. `model_performance.py`\n",
    "6. `P2F.png`\n",
    "\n",
    "---"
   ]
  },
  {
   "cell_type": "markdown",
   "metadata": {},
   "source": [
    "<a id='p3'></a>\n",
    "# Problem 3: Bank Account Revisited [40pts]\n",
    "\n",
    "\n",
    "We are going to redo the bank account closure problem from HW2, only this time developing a formal class for a Bank User and Bank Account to use in our closure (recall previously we just had a nonlocal variable amount that we changed).\n",
    "\n",
    "### IMPORTANT\n",
    "We will be grading this problem with a test suite. **Put the `enum`, classes, and closure in a single file called `Bank.py`.** \n",
    "\n",
    "**It is very important that the class and method specifications we provide in the problem description are used (with the same capitalization), otherwise you will receive no credit.**"
   ]
  },
  {
   "cell_type": "markdown",
   "metadata": {},
   "source": [
    "### Some Preliminaries:\n",
    "\n",
    "Open a Jupyter notebook and try the following code. This does not need to be submitted and will not be graded.  This is just to get you warmed up with some `Enum` types.\n",
    "\n",
    "First define two types of bank accounts."
   ]
  },
  {
   "cell_type": "code",
   "execution_count": 1,
   "metadata": {},
   "outputs": [],
   "source": [
    "from enum import Enum\n",
    "class AccountType(Enum):\n",
    "    SAVINGS = 1\n",
    "    CHECKING = 2"
   ]
  },
  {
   "cell_type": "markdown",
   "metadata": {},
   "source": [
    "Now, just to orient you, let's expore this class a little bit."
   ]
  },
  {
   "cell_type": "code",
   "execution_count": 2,
   "metadata": {},
   "outputs": [
    {
     "data": {
      "text/plain": [
       "<AccountType.SAVINGS: 1>"
      ]
     },
     "execution_count": 2,
     "metadata": {},
     "output_type": "execute_result"
    }
   ],
   "source": [
    "AccountType.SAVINGS"
   ]
  },
  {
   "cell_type": "markdown",
   "metadata": {},
   "source": [
    "returns a `Python` representation of an enumeration.\n",
    "\n",
    "You can compare these account types:"
   ]
  },
  {
   "cell_type": "code",
   "execution_count": 3,
   "metadata": {},
   "outputs": [
    {
     "data": {
      "text/plain": [
       "True"
      ]
     },
     "execution_count": 3,
     "metadata": {},
     "output_type": "execute_result"
    }
   ],
   "source": [
    "AccountType.SAVINGS == AccountType.SAVINGS"
   ]
  },
  {
   "cell_type": "code",
   "execution_count": 4,
   "metadata": {},
   "outputs": [
    {
     "data": {
      "text/plain": [
       "False"
      ]
     },
     "execution_count": 4,
     "metadata": {},
     "output_type": "execute_result"
    }
   ],
   "source": [
    "AccountType.SAVINGS == AccountType.CHECKING"
   ]
  },
  {
   "cell_type": "markdown",
   "metadata": {},
   "source": [
    "Note that to get a string representation of an `Enum`, you can use:"
   ]
  },
  {
   "cell_type": "code",
   "execution_count": 5,
   "metadata": {},
   "outputs": [
    {
     "data": {
      "text/plain": [
       "'SAVINGS'"
      ]
     },
     "execution_count": 5,
     "metadata": {},
     "output_type": "execute_result"
    }
   ],
   "source": [
    "AccountType.SAVINGS.name"
   ]
  },
  {
   "cell_type": "markdown",
   "metadata": {},
   "source": [
    "Curious about the `enum` type in Python? Here's some supplementary reading: [Python, what's the Enum type good for?](https://stackoverflow.com/questions/37601644/python-whats-the-enum-type-good-for) and [Python enum, when and where to use?\n",
    "](https://stackoverflow.com/questions/22586895/python-enum-when-and-where-to-use)"
   ]
  },
  {
   "cell_type": "markdown",
   "metadata": {},
   "source": [
    "### Part A: Create BankAccount class with the following:\n",
    "\n",
    "- Constructor `BankAccount(self, owner, accountType)` where `owner` is a string representing the name of the account owner and `accountType` is one of the AccountType `enums`.\n",
    "\n",
    "- Methods to modify the account balance of the account:\n",
    "    * `withdraw(self, amount)`\n",
    "    * `deposit(self, amount)`  \n",
    "\n",
    "**Note:** You should raise an error or exception with these methods in 2 situations and provide informative error messages. The 2 situations you should handle are:\n",
    "\n",
    "1. You should not be able to withdraw more money than the balance of the account.\n",
    "2. You should not be able to withdraw or deposit a negative amount.\n",
    "\n",
    "\n",
    "- Override the following methods:\n",
    "    * `__str__` to write an informative string of the account owner and the type of account.\n",
    "        - Remember:  This is different than `__repr__`.\n",
    "    * `__len__` to return the balance of the account."
   ]
  },
  {
   "cell_type": "code",
   "execution_count": null,
   "metadata": {},
   "outputs": [],
   "source": [
    "class BankAccount():\n",
    "    \n",
    "    def __init__(self, owner, accountType: AccountType):\n",
    "        # your code\n",
    "\n",
    "    def withdraw(self, amount):\n",
    "        # your code\n",
    "        \n",
    "    def deposit(self, amount):\n",
    "        # your code\n",
    "\n",
    "    def __str__(self\n",
    "        # your code\n",
    "\n",
    "    def __len__(self):\n",
    "        # your code"
   ]
  },
  {
   "cell_type": "markdown",
   "metadata": {},
   "source": [
    "**Put this class in your `Bank.py` file.**"
   ]
  },
  {
   "cell_type": "markdown",
   "metadata": {},
   "source": [
    "### Part B:  Write BankUser class with the following:\n",
    "\n",
    "- Constructor `BankUser(self, owner)` where `owner` is a `String` that represents the name of the account owner.\n",
    "\n",
    "- Method `addAccount(self, accountType)`:\n",
    "    * To start, a user will have no accounts when the `BankUser` object is created. \n",
    "    * `addAccount` will add a new `BankAccount` account to the user based on the `accountType` specified. \n",
    "    * **Only one savings and checking account per user. Raise an appropriate error otherwise.**\n",
    "\n",
    "- Additional required methods:\n",
    "    * `getBalance(self, accountType)`: Returns the balance of the specified 'accountType'.  \n",
    "    * `deposit(self, accountType, amount)`: Adds 'amount' to the balance of the specified 'accountType'. \n",
    "    * `withdraw(self, accountType, amount)`:  Substracts 'amount' to the balance of the specified 'accountType'.\n",
    "\n",
    "**Note:** You should raise an error or exception in these 3 methods (getBalance, deposit, withdraw) when a `BankUser` does not have the account specified by `accountType`.\n",
    "\n",
    "- Override `__str__` to have an informative summary of user's accounts."
   ]
  },
  {
   "cell_type": "code",
   "execution_count": null,
   "metadata": {},
   "outputs": [],
   "source": [
    "class BankUser():\n",
    "    \n",
    "    def __init__(self, owner):\n",
    "        # your code\n",
    "    \n",
    "    def addAccount(self, accountType):\n",
    "        # your code\n",
    "        \n",
    "    def getBalance(self, accountType):\n",
    "        # your code\n",
    "        \n",
    "    def deposit(self, accountType, amount):\n",
    "        # your code\n",
    "\n",
    "    def withdraw(self, accountType, amount):\n",
    "        # your code\n",
    "\n",
    "    def __str__(self):\n",
    "        # your code"
   ]
  },
  {
   "cell_type": "markdown",
   "metadata": {},
   "source": [
    "\n",
    "**Put this class in your `Bank.py` file.**"
   ]
  },
  {
   "cell_type": "markdown",
   "metadata": {},
   "source": [
    "### Part B continued\n",
    "\n",
    "Write tests to make sure all of the methods for this class work properly. You should also test that your methods properly handle all three invalid situations mentioned in Part A and B notes. **Submit these tests in a file called `P3B_tests.py`.**  \n",
    "\n",
    "**Hint:** Use `try/except` blocks (as seen below) to print out errors/exceptions thrown by the methods, so the entire `python` script can be run. Feel free to read more [here](https://www.pythonforbeginners.com/error-handling/exception-handling-in-python)."
   ]
  },
  {
   "cell_type": "markdown",
   "metadata": {},
   "source": [
    "```python\n",
    "def test_over_withdrawal(): #this test function should throw an Exception or Error \n",
    "    user = BankUser(\"Joe\");\n",
    "    user.addAccount(AccountType.SAVINGS);\n",
    "    user.deposit(AccountType.SAVINGS, 10);\n",
    "    try:\n",
    "        user.withdraw(AccountType.SAVINGS, 1000); #this will cause an Exception or Error\n",
    "    except Exception as e:\n",
    "        print(e); #print the message for the Exeption\n",
    "    \n",
    "test_over_withdrawal();\n",
    "```"
   ]
  },
  {
   "cell_type": "markdown",
   "metadata": {},
   "source": [
    "### Part C:  ATM Closure\n",
    "\n",
    "Finally, we are going to rewrite a closure to use our bank account. We will make use of the [input function](https://stackabuse.com/getting-user-input-in-python/) which takes user input to decide what actions to take.\n",
    "\n",
    "Write a closure called `ATMSession(bankUser)` which takes in a `BankUser` object. It should return a function called `Interface` that, when called, would provide the following interface:\n",
    "\n",
    "1. First prompt for a user will look like:\n",
    "\n",
    "![](ATM_1.png)\n",
    "\n",
    "\n",
    "2. Pressing 1 will exit, any other option will show a second set of options:\n",
    "\n",
    "![](ATM_2.png)\n",
    "\n",
    "\n",
    "3. If a deposit or withdraw was chosen, then there must be a third prompt:\n",
    "\n",
    "![](ATM_deposit.png)\n",
    "\n",
    "\n",
    "4. Upon finishing a transaction or viewing balance, it should go back to the original prompt.\n",
    "\n",
    "This is to keep the code relatively simple, if you'd like you can also curate the options depending on the `BankUser` object (for example, if the user has no accounts then only show the Create Account option), but this is up to you. In any case, you must handle any input from the user in a reasonable way that an actual bank would be okay with (e.g. Do not let the users withdraw from others' bank accounts, do not prompt them with an option to hack into the system and crush the bank, etc.), and give the user a proper response to the action specified."
   ]
  },
  {
   "cell_type": "markdown",
   "metadata": {},
   "source": [
    "### Part D:  Put everything in a module `Bank.py`\n",
    "\n",
    "We will be grading this problem with a test suite. Put the enum, classes, and closure in a single file named `Bank.py`. **It is very important that the classes and method specifications we provided are used (with the same capitalization), otherwise you will receive no credit.**"
   ]
  },
  {
   "cell_type": "markdown",
   "metadata": {},
   "source": [
    "#### Final Deliverables:\n",
    "1. `Bank.py` [30 pts]\n",
    "2. `P3B_tests.py` [10 pts]"
   ]
  }
 ],
 "metadata": {
  "kernelspec": {
   "display_name": "Python 3",
   "language": "python",
   "name": "python3"
  },
  "language_info": {
   "codemirror_mode": {
    "name": "ipython",
    "version": 3
   },
   "file_extension": ".py",
   "mimetype": "text/x-python",
   "name": "python",
   "nbconvert_exporter": "python",
   "pygments_lexer": "ipython3",
   "version": "3.7.4"
  }
 },
 "nbformat": 4,
 "nbformat_minor": 4
}
