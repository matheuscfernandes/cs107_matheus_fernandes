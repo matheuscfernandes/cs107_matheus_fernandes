{
 "cells": [
  {
   "cell_type": "markdown",
   "metadata": {},
   "source": [
    "# Pair Programming Exercises\n",
    "## Week 5 (October 1st - October 6th)"
   ]
  },
  {
   "cell_type": "markdown",
   "metadata": {},
   "source": [
    "## Exercise 1\n",
    "Last week, you set up a closure for a neural network layer. This week, you'll build a `Layer` class. Here are the requirements:\n",
    "* The constructor should have two arguments (in addition to `self`):\n",
    "    1. `shape`: A datastructure consisting of the shape of the layer. You can choose which datastructure to use here. Obvious choices are tuple and list. There may be others, but think about easy of implementation and use. Keep the same convention as last week. That is, the first slot should be the number of inputs to the layers and the second slot should be the number of nodes in the layer.\n",
    "    2. `actv`: The activation function\n",
    "* The constructor should initialize the weights and biases of the correct size with random values. These weights and biases should be attributes of the instance.\n",
    "* Make the activation function another attribute of the instance.\n",
    "* The class should have an instance method called `forward`, which calculates the output of the layer.\n",
    "* `forward` should take one argument (in addition to `self`): `inputs`."
   ]
  },
  {
   "cell_type": "markdown",
   "metadata": {},
   "source": [
    "Here's some pseudocode on how a user might want to use your class.\n",
    "\n",
    "```python\n",
    "layer1 = Layer(shape1, actv)\n",
    "layer2 = Layer(shape2, actv)\n",
    "\n",
    "h1 = layer1(inputs)\n",
    "h2 = layer2(h1)\n",
    "```"
   ]
  },
  {
   "cell_type": "markdown",
   "metadata": {},
   "source": [
    "## Exercise 2\n",
    "Spice up your `Layer` class with some special methods. You must include `__str__` and `__repr__` and at least one other dunder method of your choosing. Dunder methods are fun to play with, so feel free to try a few out."
   ]
  },
  {
   "cell_type": "markdown",
   "metadata": {},
   "source": [
    "#### Deliverables\n",
    "* `exercise.py` with the complete class as specified in exercises 1 and 2."
   ]
  }
 ],
 "metadata": {
  "kernelspec": {
   "display_name": "Python 3",
   "language": "python",
   "name": "python3"
  },
  "language_info": {
   "codemirror_mode": {
    "name": "ipython",
    "version": 3
   },
   "file_extension": ".py",
   "mimetype": "text/x-python",
   "name": "python",
   "nbconvert_exporter": "python",
   "pygments_lexer": "ipython3",
   "version": "3.7.4"
  }
 },
 "nbformat": 4,
 "nbformat_minor": 2
}
