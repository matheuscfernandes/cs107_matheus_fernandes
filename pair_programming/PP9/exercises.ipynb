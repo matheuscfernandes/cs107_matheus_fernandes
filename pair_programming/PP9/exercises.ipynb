{
 "cells": [
  {
   "cell_type": "markdown",
   "metadata": {},
   "source": [
    "# Pair Programming Exercises\n",
    "## Week 9 (October 29th - November 2nd)"
   ]
  },
  {
   "cell_type": "markdown",
   "metadata": {},
   "source": [
    "## Exercise 1\n",
    "Create an iterable named `Fibonacci` and an iterator named `FibonacciIterator`. The `Fibonacci` iterable should be used to create a `FibonacciIterator` of a specified number of terms. The `FibonacciIterator` should iterate over the Fibonacci sequence and return the next value in the sequence. Here's a basic use case with some output:\n",
    "```python\n",
    "fib = Fibonacci(10) # Create a Fibonacci iterator called fib that contains 10 terms\n",
    "list(iter(fib)) # Iterate over the iterator and create a list.\n",
    "```\n",
    "\n",
    "```bash\n",
    "[1, 2, 3, 5, 8, 13, 21, 34, 55, 89]\n",
    "```\n",
    "\n",
    "Note that the very first term ($0$) was not printed out, but you are welcome to do so.\n",
    "\n",
    "#### Deliverables\n",
    "* `fibo.py`\n",
    "    - Contains the `FibonacciIterator` and `Fibonacci` classes.\n",
    "    - Includes a demo like the one above."
   ]
  },
  {
   "cell_type": "markdown",
   "metadata": {},
   "source": [
    "## Exercise 2\n",
    "In Homework 5 and 6, you will implement BSTs. The implementation should be able to insert new values and optionally be able to delete values from the tree. This exercise is meant to help guide you through the conceptual ideas.\n",
    "\n",
    "Consider the array $$\\left[13, 7, 19, 17, 3, 29, 5, 31, 2, 11\\right].$$  Do the following:\n",
    "1. Draw a BST for the array\n",
    "2. Create new trees by deleting the nodes with the following values\n",
    "   - $13$\n",
    "   - $29$\n",
    "   - $31$\n",
    "\n",
    "**Note:** The result of part 2 will be three different trees.\n",
    "\n",
    "#### Deliverables\n",
    "Submit a picture (`.jpg` or `.png`) of each tree. This can be three separate files or a single file with all three trees in it."
   ]
  }
 ],
 "metadata": {
  "kernelspec": {
   "display_name": "Python 3",
   "language": "python",
   "name": "python3"
  },
  "language_info": {
   "codemirror_mode": {
    "name": "ipython",
    "version": 3
   },
   "file_extension": ".py",
   "mimetype": "text/x-python",
   "name": "python",
   "nbconvert_exporter": "python",
   "pygments_lexer": "ipython3",
   "version": "3.7.4"
  }
 },
 "nbformat": 4,
 "nbformat_minor": 2
}
