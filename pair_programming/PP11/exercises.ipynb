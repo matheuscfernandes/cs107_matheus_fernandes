{
 "cells": [
  {
   "cell_type": "markdown",
   "metadata": {},
   "source": [
    "# Pair Programming Exercises\n",
    "## Week 11 (November 12th - November 16th)"
   ]
  },
  {
   "cell_type": "markdown",
   "metadata": {},
   "source": [
    "Read data from the `candidates.txt` file and enter it into a `candidates` table. This should be similar to the one created in Lecture 20.\n",
    "\n",
    "**Hints:**\n",
    "* Copy the necessary set-up from the cells in Lecture 20.\n",
    "* Be careful not to copy blindly!  You will get an error if you do.\n",
    "* To skip the header in `candidates.txt` you can use the `next()` method.\n",
    "* You will need to do a little processing on the input to split along the `|` characters.\n",
    "\n",
    "#### Deliverables\n",
    "`PP11.py`."
   ]
  }
 ],
 "metadata": {
  "kernelspec": {
   "display_name": "Python 3",
   "language": "python",
   "name": "python3"
  },
  "language_info": {
   "codemirror_mode": {
    "name": "ipython",
    "version": 3
   },
   "file_extension": ".py",
   "mimetype": "text/x-python",
   "name": "python",
   "nbconvert_exporter": "python",
   "pygments_lexer": "ipython3",
   "version": "3.7.4"
  }
 },
 "nbformat": 4,
 "nbformat_minor": 2
}