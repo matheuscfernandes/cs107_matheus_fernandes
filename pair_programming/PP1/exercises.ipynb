{
 "cells": [
  {
   "cell_type": "markdown",
   "metadata": {},
   "source": [
    "# Pair Programming Exercises\n",
    "\n",
    "## Week 1 (September 3rd - September 8th)"
   ]
  },
  {
   "cell_type": "markdown",
   "metadata": {},
   "source": [
    "# Exercise 1\n",
    "The purpose of this exercise is to help you ease into the course flow for the semester. You will learn where to find the homework assignments and how to correctly set up your `git` repo for this course.\n",
    "\n",
    "#### Tasks\n",
    "* Do problem #2 on Homework 1 (https://harvard-iacs.github.io/2020-CS107/category/homework.html)."
   ]
  },
  {
   "cell_type": "markdown",
   "metadata": {},
   "source": []
  },
  {
   "cell_type": "markdown",
   "metadata": {},
   "source": [
    "# Exercise 2\n",
    "By the end of this exercise, you will be ready to use Deepnote for pair programming.\n",
    "\n",
    "#### Tasks\n",
    "* Login to Deepnote if you haven't already: https://deepnote.com/join-team?token=91n852m91\n",
    "* Create a new project called `CS107_Pair_Programming`\n",
    "* Create a new directory in this new project called `PP1`"
   ]
  },
  {
   "cell_type": "markdown",
   "metadata": {},
   "source": [
    "# Exercise 3\n",
    "\n",
    "### All work on PP exercises should be committed to your `master` branch. If you have begun to work on HW1, please commit that work to its branch before checking out `master` to add the file at the end of this exercise. Feel free to ask your TF if you have any issues.\n",
    "\n",
    "You will be assigned a random group and sent to a breakout room. Please wait for your TF. This exercise will be performed in the `PP1/` directory that you just created.\n",
    "\n",
    "By the end of this exercise, you will have gone through your first pair programming workflow! We will check that you successfully pushed the `README.md` file to your repo.\n",
    "\n",
    "#### Tasks\n",
    "* Invite group members. Make sure they have \"Edit\" access.\n",
    "![Image]({attach}../fig/share.png)\n",
    "* Create a terminal. This is the fifth icon from the top.\n",
    "![Image]({attach}../fig/terminal.png)\n",
    "* Create a `README.md` file. You can put anything you want in here. A good choice would be something like the figure below.\n",
    "![Image]({attach}../fig/readme.png)\n",
    "* Inside the terminal, from the command line, play around with some of the Linux commands you started to learn in lecture. At the very least, try to use `ls` and some of its options.\n",
    "* Now download `README.md` to your local computer, copy it to the ` pair_programming/PP1/` directory of your course repo, and `git push`.\n",
    "\n",
    "#### A few comments\n",
    "* The tasks above are not necessarily connected. The main goal is to help you get familiar with the correct workflow.\n",
    "* For example, you can choose to share your code with your partners or not for this session. In the future, you will be required to share code.\n",
    "* Similarly, you are not required to create a file directly from the terminal. However, in the future, once you are more comforable with Linux and the command line, you will be required to do all of this from the command line."
   ]
  },
  {
   "cell_type": "code",
   "execution_count": null,
   "metadata": {},
   "outputs": [],
   "source": []
  }
 ],
 "metadata": {
  "kernelspec": {
   "display_name": "Python 3",
   "language": "python",
   "name": "python3"
  },
  "language_info": {
   "codemirror_mode": {
    "name": "ipython",
    "version": 3
   },
   "file_extension": ".py",
   "mimetype": "text/x-python",
   "name": "python",
   "nbconvert_exporter": "python",
   "pygments_lexer": "ipython3",
   "version": "3.7.5"
  },
  "toc": {
   "base_numbering": 1,
   "nav_menu": {},
   "number_sections": true,
   "sideBar": true,
   "skip_h1_title": false,
   "title_cell": "Table of Contents",
   "title_sidebar": "Contents",
   "toc_cell": false,
   "toc_position": {},
   "toc_section_display": true,
   "toc_window_display": false
  },
  "varInspector": {
   "cols": {
    "lenName": 16,
    "lenType": 16,
    "lenVar": 40
   },
   "kernels_config": {
    "python": {
     "delete_cmd_postfix": "",
     "delete_cmd_prefix": "del ",
     "library": "var_list.py",
     "varRefreshCmd": "print(var_dic_list())"
    },
    "r": {
     "delete_cmd_postfix": ") ",
     "delete_cmd_prefix": "rm(",
     "library": "var_list.r",
     "varRefreshCmd": "cat(var_dic_list()) "
    }
   },
   "types_to_exclude": [
    "module",
    "function",
    "builtin_function_or_method",
    "instance",
    "_Feature"
   ],
   "window_display": false
  }
 },
 "nbformat": 4,
 "nbformat_minor": 2
}
