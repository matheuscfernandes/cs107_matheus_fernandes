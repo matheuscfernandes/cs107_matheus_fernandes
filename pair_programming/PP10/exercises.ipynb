{
 "cells": [
  {
   "cell_type": "markdown",
   "metadata": {},
   "source": [
    "# Pair Programming Exercises\n",
    "## Week 10 (November 5th - November 10th)"
   ]
  },
  {
   "cell_type": "markdown",
   "metadata": {},
   "source": [
    "## Exercise 1\n",
    "\n",
    "#### Do the following exercise in a `.py` file called `sentence.py`.\n",
    "\n",
    "Create a `Sentence` iterator class that uses a generator.\n",
    "\n",
    "**Notes and Hints:** \n",
    "* You will write the generator in the `__iter__` special method.\n",
    "* The generator automatically gets `__next__` (no need to implement it).\n",
    "* Now you only need to create a single class.\n",
    "\n",
    "Here's the sentence iterator class that we've been using:\n",
    "```python\n",
    "class SentenceIterator:\n",
    "    def __init__(self, words): \n",
    "        self.words = words \n",
    "        self.index = 0\n",
    "        \n",
    "    def __next__(self): \n",
    "        try:\n",
    "            word = self.words[self.index] \n",
    "        except IndexError:\n",
    "            raise StopIteration() \n",
    "        self.index += 1\n",
    "        return word \n",
    "\n",
    "    def __iter__(self):\n",
    "        return self\n",
    "\n",
    "class Sentence: # An iterable\n",
    "    def __init__(self, text): \n",
    "        self.text = text\n",
    "        self.words = text.split()\n",
    "        \n",
    "    def __iter__(self):\n",
    "        return SentenceIterator(self.words)\n",
    "    \n",
    "    def __repr__(self):\n",
    "        return 'Sentence(%s)' % reprlib.repr(self.text)\n",
    "```\n",
    "\n",
    "#### Deliverables\n",
    "* `sentence.py`"
   ]
  }
 ],
 "metadata": {
  "kernelspec": {
   "display_name": "Python 3",
   "language": "python",
   "name": "python3"
  },
  "language_info": {
   "codemirror_mode": {
    "name": "ipython",
    "version": 3
   },
   "file_extension": ".py",
   "mimetype": "text/x-python",
   "name": "python",
   "nbconvert_exporter": "python",
   "pygments_lexer": "ipython3",
   "version": "3.7.4"
  }
 },
 "nbformat": 4,
 "nbformat_minor": 2
}
