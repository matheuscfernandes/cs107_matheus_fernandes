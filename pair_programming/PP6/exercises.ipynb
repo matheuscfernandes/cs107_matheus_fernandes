{
 "cells": [
  {
   "cell_type": "markdown",
   "metadata": {},
   "source": [
    "# Pair Programming Exercises\n",
    "## Week 5 (October 8th - October 13th)"
   ]
  },
  {
   "cell_type": "markdown",
   "metadata": {},
   "source": [
    "This week's exercises are all about getting familiar with automatic differentiation in the forward mode. There are no coding portions this week. Each exercise will provide information on how to submit."
   ]
  },
  {
   "cell_type": "markdown",
   "metadata": {},
   "source": [
    "### Exercise 1\n",
    "You will work with the following function for this exercise,\n",
    "\\begin{align}\n",
    "  f\\left(x,y\\right) = \\exp\\left(-\\left(\\sin\\left(x\\right) - \\cos\\left(y\\right)\\right)^{2}\\right).\n",
    "\\end{align}\n",
    "\n",
    "1. Draw the computational graph for the function.\n",
    "   - Note:  This graph will have $2$ inputs.\n",
    "2. Create the evaluation trace for this function.\n",
    "3. Use the graph / trace to evaluate $f\\left(\\dfrac{\\pi}{2}, \\dfrac{\\pi}{3}\\right)$.\n",
    "3. Compute $\\dfrac{\\partial f}{\\partial x}\\left(\\dfrac{\\pi}{2}, \\dfrac{\\pi}{3}\\right)$ and $\\dfrac{\\partial f}{\\partial y}\\left(\\dfrac{\\pi}{2}, \\dfrac{\\pi}{3}\\right)$ using the forward mode of AD.\n",
    "\n",
    "#### Hint\n",
    "You can set up a table with the following headings:\n",
    "\n",
    "| trace   | elem op.    | value | elem der.           | $\\nabla_{x}$| $\\nabla_{y}$ |\n",
    "| :---:   | :------:    | :---: | :-------:           | :---------: | :----------: |\n",
    "| $v_{2}$ | $x_{2}^{2}$ | $1$   | $2x_{2}\\dot{x}_{2}$ | $1$         | $2$          |\n",
    "| $v_{3}$ | $v_{2}^{2}$ | $1$   | $2v_{2}\\dot{v}_{2}$ | $2$         | $4$          |\n",
    "\n",
    "A few key observations:\n",
    "* First of all, the values in the table is made up and for purely illustrative purposes.\n",
    "* The first column represents where you are in tracing out the computation.\n",
    "* The second column is the current elementary operation. In this example, we're just squaring one of the inputs.\n",
    "* The third column is the value of the function at this point in the evaluation. Here we're just pretending it's $1$.\n",
    "* The fourth column is the derivative of the elementary funtion. This is where the chain rule happens!\n",
    "* The fifth and sixth columns are where things get interesting:\n",
    "    * Fifth column. The derivative value evaluated from the fourth column where the dot is interpreted as a derivative with respect to $x$.\n",
    "    * Sixth column. The derivative value evaluated from the fourth column where the dot is interpreted as a derivative with respect to $y$.\n",
    "\n",
    "So, in this example, we need to calculate $2v_{2}\\dot{v}_{2}$. From the previous row, we see that $\\dot{v}_{2}$ could be $1$ or $2$ depending on which derivative the dot represents! In our $\\nabla_{x}$ column, we know that the dot means derivatives with respect to $x$ and in our $\\nabla_{y}$ column we know that the dot means derivatives with respect to $y$. Plugging the appropriate values in from the previous row gives us the right values.\n",
    "\n",
    "#### Deliverables\n",
    "* `exercise_1.md`\n",
    "    - A markdown table for the evaluation trace.\n",
    "    - Solutions for the derivative evaluations at the specified points."
   ]
  },
  {
   "cell_type": "markdown",
   "metadata": {},
   "source": [
    "### Exercise 2\n",
    "Let \n",
    "\\begin{align}\n",
    "  f\\left(x,y\\right) = \n",
    "  \\begin{bmatrix}\n",
    "    x^{2} + y^{2} \\\\\n",
    "    \\exp\\left(x+y\\right)\n",
    "  \\end{bmatrix}.\n",
    "\\end{align}\n",
    "\n",
    "Write the evaluation trace for this function and its derivatives at the point $\\left(1, 1\\right)$.\n",
    "\n",
    "The take-home message is that we can form the full Jacobian by using $m$ seed vectors where $m$ is the number of independent variables.\n",
    "\n",
    "#### Deliverables\n",
    "* `exercise_2.md`\n",
    "    * Markdown table for the evaluation trace."
   ]
  }
 ],
 "metadata": {
  "kernelspec": {
   "display_name": "Python 3",
   "language": "python",
   "name": "python3"
  },
  "language_info": {
   "codemirror_mode": {
    "name": "ipython",
    "version": 3
   },
   "file_extension": ".py",
   "mimetype": "text/x-python",
   "name": "python",
   "nbconvert_exporter": "python",
   "pygments_lexer": "ipython3",
   "version": "3.7.4"
  }
 },
 "nbformat": 4,
 "nbformat_minor": 2
}
